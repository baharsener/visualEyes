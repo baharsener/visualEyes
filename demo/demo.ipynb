{
 "cells": [
  {
   "cell_type": "markdown",
   "metadata": {},
   "source": [
    "# Initialization"
   ]
  },
  {
   "cell_type": "markdown",
   "metadata": {},
   "source": [
    "## Import libraries"
   ]
  },
  {
   "cell_type": "code",
   "execution_count": 1,
   "metadata": {},
   "outputs": [],
   "source": [
    "import os\n",
    "import eyelinkio\n",
    "import pandas as pd\n",
    "import sys"
   ]
  },
  {
   "cell_type": "markdown",
   "metadata": {},
   "source": [
    "## Import `visualeyes`"
   ]
  },
  {
   "cell_type": "code",
   "execution_count": 2,
   "metadata": {},
   "outputs": [
    {
     "ename": "ModuleNotFoundError",
     "evalue": "No module named 'visualeyes.define_aoi'",
     "output_type": "error",
     "traceback": [
      "\u001b[0;31m---------------------------------------------------------------------------\u001b[0m",
      "\u001b[0;31mModuleNotFoundError\u001b[0m                       Traceback (most recent call last)",
      "Cell \u001b[0;32mIn[2], line 12\u001b[0m\n\u001b[1;32m      9\u001b[0m     sys\u001b[38;5;241m.\u001b[39mpath\u001b[38;5;241m.\u001b[39mappend(visualeyes_path)\n\u001b[1;32m     11\u001b[0m \u001b[38;5;66;03m# import visualeyes\u001b[39;00m\n\u001b[0;32m---> 12\u001b[0m \u001b[38;5;28;01mimport\u001b[39;00m \u001b[38;5;21;01mvisualeyes\u001b[39;00m\n",
      "File \u001b[0;32m~/visualEyes/visualeyes/__init__.py:1\u001b[0m\n\u001b[0;32m----> 1\u001b[0m \u001b[38;5;28;01mfrom\u001b[39;00m \u001b[38;5;21;01m.\u001b[39;00m\u001b[38;5;21;01mcore\u001b[39;00m \u001b[38;5;28;01mimport\u001b[39;00m define_aoi, epoch_data, add_time_to_sample, plot_heatmap\n",
      "File \u001b[0;32m~/visualEyes/visualeyes/core/__init__.py:3\u001b[0m\n\u001b[1;32m      1\u001b[0m \u001b[38;5;28;01mfrom\u001b[39;00m \u001b[38;5;21;01m.\u001b[39;00m\u001b[38;5;21;01mprocessing\u001b[39;00m \u001b[38;5;28;01mimport\u001b[39;00m define_aoi, epoch_data\n\u001b[1;32m      2\u001b[0m \u001b[38;5;28;01mfrom\u001b[39;00m \u001b[38;5;21;01m.\u001b[39;00m\u001b[38;5;21;01mutility\u001b[39;00m \u001b[38;5;28;01mimport\u001b[39;00m add_time_to_sample\n\u001b[0;32m----> 3\u001b[0m \u001b[38;5;28;01mfrom\u001b[39;00m \u001b[38;5;21;01m.\u001b[39;00m\u001b[38;5;21;01mplotting\u001b[39;00m \u001b[38;5;28;01mimport\u001b[39;00m plot_heatmap\n",
      "File \u001b[0;32m~/visualEyes/visualeyes/core/plotting.py:3\u001b[0m\n\u001b[1;32m      1\u001b[0m \u001b[38;5;28;01mimport\u001b[39;00m \u001b[38;5;21;01mpandas\u001b[39;00m \u001b[38;5;28;01mas\u001b[39;00m \u001b[38;5;21;01mpd\u001b[39;00m\n\u001b[1;32m      2\u001b[0m \u001b[38;5;28;01mimport\u001b[39;00m \u001b[38;5;21;01mnumpy\u001b[39;00m \u001b[38;5;28;01mas\u001b[39;00m \u001b[38;5;21;01mnp\u001b[39;00m\n\u001b[0;32m----> 3\u001b[0m \u001b[38;5;28;01mfrom\u001b[39;00m \u001b[38;5;21;01mvisualeyes\u001b[39;00m\u001b[38;5;21;01m.\u001b[39;00m\u001b[38;5;21;01mdefine_aoi\u001b[39;00m \u001b[38;5;28;01mimport\u001b[39;00m define_aoi\n\u001b[1;32m      4\u001b[0m \u001b[38;5;28;01mfrom\u001b[39;00m \u001b[38;5;21;01meyelinkio\u001b[39;00m \u001b[38;5;28;01mimport\u001b[39;00m read_edf\n\u001b[1;32m      5\u001b[0m \u001b[38;5;28;01mimport\u001b[39;00m \u001b[38;5;21;01mmatplotlib\u001b[39;00m\u001b[38;5;21;01m.\u001b[39;00m\u001b[38;5;21;01mpyplot\u001b[39;00m \u001b[38;5;28;01mas\u001b[39;00m \u001b[38;5;21;01mplt\u001b[39;00m\n",
      "\u001b[0;31mModuleNotFoundError\u001b[0m: No module named 'visualeyes.define_aoi'"
     ]
    }
   ],
   "source": [
    "# get the current working directory (location of the notebook)\n",
    "notebook_dir = os.getcwd()\n",
    "\n",
    "# path to the visualeyes package\n",
    "visualeyes_path = os.path.abspath(os.path.join(notebook_dir, \"..\")) # Go up one directory\n",
    "\n",
    "# add the path to sys.path\n",
    "if visualeyes_path not in sys.path:\n",
    "    sys.path.append(visualeyes_path)\n",
    "\n",
    "# import visualeyes\n",
    "import visualeyes"
   ]
  },
  {
   "cell_type": "markdown",
   "metadata": {},
   "source": [
    "## Fetch Example Data"
   ]
  },
  {
   "cell_type": "code",
   "execution_count": 7,
   "metadata": {},
   "outputs": [],
   "source": [
    "# define the path to the edf file\n",
    "current_path = os.getcwd()\n",
    "data_dir = os.path.abspath(os.path.join(current_path, \"..\", \"data\"))\n",
    "edf_path = os.path.join(data_dir, 'TG_2015.EDF')"
   ]
  },
  {
   "cell_type": "markdown",
   "metadata": {},
   "source": [
    "# Analysis"
   ]
  },
  {
   "cell_type": "markdown",
   "metadata": {},
   "source": [
    "## Convert edf file to pandas dataframes"
   ]
  },
  {
   "cell_type": "code",
   "execution_count": 8,
   "metadata": {},
   "outputs": [
    {
     "name": "stdout",
     "output_type": "stream",
     "text": [
      "loadEvents = 1\n",
      "setTrial End:  END\n",
      "loadEvents = 1\n"
     ]
    }
   ],
   "source": [
    "# read the edf file\n",
    "edf = eyelinkio.read_edf(edf_path)\n",
    "\n",
    "# convert the edf file to a dicitionary of pandas dataframes\n",
    "edf_dfs = edf.to_pandas()"
   ]
  },
  {
   "cell_type": "markdown",
   "metadata": {},
   "source": [
    "## Demo 1: visualize data quality of the first 300ms into a trial"
   ]
  },
  {
   "cell_type": "code",
   "execution_count": 9,
   "metadata": {},
   "outputs": [
    {
     "ename": "NameError",
     "evalue": "name 'visualeyes' is not defined",
     "output_type": "error",
     "traceback": [
      "\u001b[0;31m---------------------------------------------------------------------------\u001b[0m",
      "\u001b[0;31mNameError\u001b[0m                                 Traceback (most recent call last)",
      "Cell \u001b[0;32mIn[9], line 2\u001b[0m\n\u001b[1;32m      1\u001b[0m \u001b[38;5;66;03m# add time column to the dataframes\u001b[39;00m\n\u001b[0;32m----> 2\u001b[0m edf_dfs \u001b[38;5;241m=\u001b[39m \u001b[43mvisualeyes\u001b[49m\u001b[38;5;241m.\u001b[39madd_time_to_sample(edf, edf_dfs)\n\u001b[1;32m      4\u001b[0m \u001b[38;5;66;03m# get trial data\u001b[39;00m\n\u001b[1;32m      5\u001b[0m trial_data \u001b[38;5;241m=\u001b[39m edf_dfs[\u001b[38;5;124m'\u001b[39m\u001b[38;5;124mdiscrete\u001b[39m\u001b[38;5;124m'\u001b[39m][\u001b[38;5;124m'\u001b[39m\u001b[38;5;124mtrials\u001b[39m\u001b[38;5;124m'\u001b[39m]\n",
      "\u001b[0;31mNameError\u001b[0m: name 'visualeyes' is not defined"
     ]
    }
   ],
   "source": [
    "# add time column to the dataframes\n",
    "edf_dfs = visualeyes.add_time_to_sample(edf, edf_dfs)\n",
    "\n",
    "# get trial data\n",
    "trial_data = edf_dfs['discrete']['trials']"
   ]
  },
  {
   "cell_type": "code",
   "execution_count": null,
   "metadata": {},
   "outputs": [
    {
     "data": {
      "text/html": [
       "<div>\n",
       "<style scoped>\n",
       "    .dataframe tbody tr th:only-of-type {\n",
       "        vertical-align: middle;\n",
       "    }\n",
       "\n",
       "    .dataframe tbody tr th {\n",
       "        vertical-align: top;\n",
       "    }\n",
       "\n",
       "    .dataframe thead th {\n",
       "        text-align: right;\n",
       "    }\n",
       "</style>\n",
       "<table border=\"1\" class=\"dataframe\">\n",
       "  <thead>\n",
       "    <tr style=\"text-align: right;\">\n",
       "      <th></th>\n",
       "      <th>xpos</th>\n",
       "      <th>ypos</th>\n",
       "      <th>ps</th>\n",
       "      <th>time</th>\n",
       "      <th>epoch_index</th>\n",
       "    </tr>\n",
       "  </thead>\n",
       "  <tbody>\n",
       "    <tr>\n",
       "      <th>0</th>\n",
       "      <td>599.200012</td>\n",
       "      <td>452.500000</td>\n",
       "      <td>510.0</td>\n",
       "      <td>0.000</td>\n",
       "      <td>0</td>\n",
       "    </tr>\n",
       "    <tr>\n",
       "      <th>1</th>\n",
       "      <td>599.500000</td>\n",
       "      <td>454.200012</td>\n",
       "      <td>511.0</td>\n",
       "      <td>0.002</td>\n",
       "      <td>0</td>\n",
       "    </tr>\n",
       "    <tr>\n",
       "      <th>2</th>\n",
       "      <td>600.000000</td>\n",
       "      <td>455.899994</td>\n",
       "      <td>511.0</td>\n",
       "      <td>0.004</td>\n",
       "      <td>0</td>\n",
       "    </tr>\n",
       "    <tr>\n",
       "      <th>3</th>\n",
       "      <td>600.400024</td>\n",
       "      <td>457.299988</td>\n",
       "      <td>512.0</td>\n",
       "      <td>0.006</td>\n",
       "      <td>0</td>\n",
       "    </tr>\n",
       "    <tr>\n",
       "      <th>4</th>\n",
       "      <td>600.700012</td>\n",
       "      <td>459.100006</td>\n",
       "      <td>513.0</td>\n",
       "      <td>0.008</td>\n",
       "      <td>0</td>\n",
       "    </tr>\n",
       "    <tr>\n",
       "      <th>...</th>\n",
       "      <td>...</td>\n",
       "      <td>...</td>\n",
       "      <td>...</td>\n",
       "      <td>...</td>\n",
       "      <td>...</td>\n",
       "    </tr>\n",
       "    <tr>\n",
       "      <th>664939</th>\n",
       "      <td>773.099976</td>\n",
       "      <td>545.200012</td>\n",
       "      <td>147.0</td>\n",
       "      <td>1329.878</td>\n",
       "      <td>89</td>\n",
       "    </tr>\n",
       "    <tr>\n",
       "      <th>664940</th>\n",
       "      <td>773.000000</td>\n",
       "      <td>545.700012</td>\n",
       "      <td>147.0</td>\n",
       "      <td>1329.880</td>\n",
       "      <td>89</td>\n",
       "    </tr>\n",
       "    <tr>\n",
       "      <th>664941</th>\n",
       "      <td>773.000000</td>\n",
       "      <td>546.200012</td>\n",
       "      <td>148.0</td>\n",
       "      <td>1329.882</td>\n",
       "      <td>89</td>\n",
       "    </tr>\n",
       "    <tr>\n",
       "      <th>664942</th>\n",
       "      <td>773.099976</td>\n",
       "      <td>546.799988</td>\n",
       "      <td>148.0</td>\n",
       "      <td>1329.884</td>\n",
       "      <td>89</td>\n",
       "    </tr>\n",
       "    <tr>\n",
       "      <th>664943</th>\n",
       "      <td>773.299988</td>\n",
       "      <td>547.299988</td>\n",
       "      <td>148.0</td>\n",
       "      <td>1329.886</td>\n",
       "      <td>89</td>\n",
       "    </tr>\n",
       "  </tbody>\n",
       "</table>\n",
       "<p>13568 rows × 5 columns</p>\n",
       "</div>"
      ],
      "text/plain": [
       "              xpos        ypos     ps      time  epoch_index\n",
       "0       599.200012  452.500000  510.0     0.000            0\n",
       "1       599.500000  454.200012  511.0     0.002            0\n",
       "2       600.000000  455.899994  511.0     0.004            0\n",
       "3       600.400024  457.299988  512.0     0.006            0\n",
       "4       600.700012  459.100006  513.0     0.008            0\n",
       "...            ...         ...    ...       ...          ...\n",
       "664939  773.099976  545.200012  147.0  1329.878           89\n",
       "664940  773.000000  545.700012  147.0  1329.880           89\n",
       "664941  773.000000  546.200012  148.0  1329.882           89\n",
       "664942  773.099976  546.799988  148.0  1329.884           89\n",
       "664943  773.299988  547.299988  148.0  1329.886           89\n",
       "\n",
       "[13568 rows x 5 columns]"
      ]
     },
     "execution_count": 7,
     "metadata": {},
     "output_type": "execute_result"
    }
   ],
   "source": [
    "# epoch the first 300ms of every trial\n",
    "trial_start = trial_data['stime'].values\n",
    "duration = 300/1000 # 300ms = 0.3s\n",
    "\n",
    "# get the data, here we are interested in all samples collected\n",
    "all_data = edf_dfs['samples']\n",
    "\n",
    "# epoch the data\n",
    "epochs, epoched_data = visualeyes.epoch_data(all_data, trial_start, duration)\n",
    "epoched_data"
   ]
  },
  {
   "cell_type": "markdown",
   "metadata": {},
   "source": [
    "## Demo 2: Visualize gaze data with a heatmap and areas of interest"
   ]
  },
  {
   "cell_type": "code",
   "execution_count": 16,
   "metadata": {},
   "outputs": [
    {
     "name": "stdout",
     "output_type": "stream",
     "text": [
      "loadEvents = 1\n",
      "setTrial End:  END\n",
      "loadEvents = 1\n"
     ]
    },
    {
     "data": {
      "image/png": "[encoded data removed]",
      "text/plain": [
       "<Figure size 640x480 with 2 Axes>"
      ]
     },
     "metadata": {},
     "output_type": "display_data"
    }
   ],
   "source": [
    "# get the current working directory (location of the notebook)\n",
    "notebook_dir = os.getcwd()\n",
    "\n",
    "# path to the visualeyes package\n",
    "visualeyes_path = os.path.abspath(os.path.join(notebook_dir, \"..\")) # Go up one directory\n",
    "\n",
    "# add the path to sys.path\n",
    "if visualeyes_path not in sys.path:\n",
    "    sys.path.append(visualeyes_path)\n",
    "\n",
    "# import visualeyes\n",
    "import visualeyes\n",
    "\n",
    "\n",
    "#File paths\n",
    "current_path = os.getcwd()\n",
    "data_dir = os.path.abspath(os.path.join(current_path, \"..\", \"data\"))\n",
    "edf_path = os.path.join(data_dir, 'TG_2015.EDF')\n",
    "\n",
    "#read edf and convert to pandas df\n",
    "edf = eyelinkio.read_edf(edf_path)\n",
    "edf_dfs = edf.to_pandas()\n",
    "\n",
    "#get screen coords\n",
    "screen_coordinates = edf['info']['screen_coords']\n",
    "screen_width, screen_height = screen_coordinates\n",
    "\n",
    "# Define AOI's\n",
    "aoi_definitions = [{'shape': 'rectangle', 'coordinates': (550, 750, 350, 550)},\n",
    "                   {\"shape\": \"circle\", \"coordinates\": [150, 400, 100]}]\n",
    "\n",
    "#dataframe with gaze data (just x and y positions)\n",
    "data = edf_dfs['samples'][['xpos', 'ypos']]\n",
    "\n",
    "#Plot the heatmap\n",
    "visualeyes.plot_heatmap(data, screen_coordinates, aoi_definitions)"
   ]
  }
 ],
 "metadata": {
  "kernelspec": {
   "display_name": "vizeyes",
   "language": "python",
   "name": "python3"
  },
  "language_info": {
   "codemirror_mode": {
    "name": "ipython",
    "version": 3
   },
   "file_extension": ".py",
   "mimetype": "text/x-python",
   "name": "python",
   "nbconvert_exporter": "python",
   "pygments_lexer": "ipython3",
   "version": "3.13.1"
  }
 },
 "nbformat": 4,
 "nbformat_minor": 2
}
